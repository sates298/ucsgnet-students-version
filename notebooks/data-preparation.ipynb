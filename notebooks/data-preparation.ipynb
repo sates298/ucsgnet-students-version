{
 "cells": [
  {
   "cell_type": "code",
   "execution_count": 16,
   "id": "7064c959",
   "metadata": {},
   "outputs": [],
   "source": [
    "import torch\n",
    "import sys\n",
    "from os import listdir, path\n",
    "import random\n",
    "\n",
    "# sys.path.insert(0, '/home/steve/Dokumenty/Studia/project/ucsgnet-students-version')\n",
    "sys.path.insert(0, '/home/steve/Dokumenty/Studia/project/CSGNet')\n",
    "\n",
    "# from ucsgnet.dataset import CADDataset\n",
    "import matplotlib.pyplot as plt\n",
    "from src.Models.models import ParseModelOutput\n",
    "\n",
    "from src.utils.train_utils import prepare_input_op, beams_parser, validity, image_from_expressions"
   ]
  },
  {
   "cell_type": "code",
   "execution_count": 17,
   "id": "2bac1233",
   "metadata": {},
   "outputs": [
    {
     "data": {
      "text/plain": [
       "{'five_ops': '/home/steve/Dokumenty/Studia/project/ucsgnet-students-version/data/synthetic/synthetic/five_ops/expressions.txt',\n",
       " 'two_ops': '/home/steve/Dokumenty/Studia/project/ucsgnet-students-version/data/synthetic/synthetic/two_ops/expressions.txt',\n",
       " 'three_ops': '/home/steve/Dokumenty/Studia/project/ucsgnet-students-version/data/synthetic/synthetic/three_ops/expressions.txt',\n",
       " 'four_ops': '/home/steve/Dokumenty/Studia/project/ucsgnet-students-version/data/synthetic/synthetic/four_ops/expressions.txt',\n",
       " 'six_ops': '/home/steve/Dokumenty/Studia/project/ucsgnet-students-version/data/synthetic/synthetic/six_ops/expressions.txt',\n",
       " 'one_op': '/home/steve/Dokumenty/Studia/project/ucsgnet-students-version/data/synthetic/synthetic/one_op/expressions.txt',\n",
       " 'seven_ops': '/home/steve/Dokumenty/Studia/project/ucsgnet-students-version/data/synthetic/synthetic/seven_ops/expressions.txt'}"
      ]
     },
     "execution_count": 17,
     "metadata": {},
     "output_type": "execute_result"
    }
   ],
   "source": [
    "canvas_shape = [64, 64]\n",
    "max_len = 13\n",
    "terminals_path = '/home/steve/Dokumenty/Studia/project/CSGNet/terminals.txt'\n",
    "data_path = '/home/steve/Dokumenty/Studia/project/ucsgnet-students-version/data/synthetic/synthetic'\n",
    "output_path= '/home/steve/Dokumenty/Studia/project/ucsgnet-students-version/data/synthetic/'\n",
    "filepaths = {\n",
    "    k: path.join(path.join(data_path, k), 'expressions.txt') for k in listdir(data_path)\n",
    "}\n",
    "\n",
    "with open(terminals_path, \"r\") as file:\n",
    "    unique_draw = file.readlines()\n",
    "for index, e in enumerate(unique_draw):\n",
    "    unique_draw[index] = e[0:-1]\n",
    "\n",
    "parser = ParseModelOutput(unique_draw, max_len // 2 + 1, max_len, canvas_shape)\n",
    "filepaths"
   ]
  },
  {
   "cell_type": "code",
   "execution_count": 29,
   "id": "78470e76",
   "metadata": {},
   "outputs": [],
   "source": [
    "def create_images(expressions, parser, output_name, show=True, save=True):\n",
    "    predicted_images = image_from_expressions(parser, expressions)\n",
    "    for i, img in enumerate(predicted_images):\n",
    "        plt.imshow(img, cmap=\"Greys\")\n",
    "        plt.grid(\"off\")\n",
    "        plt.axis(\"off\")\n",
    "        if save:\n",
    "            plt.savefig(path.join(output_path, f'{output_name}_{i}'))\n",
    "#     if show:\n",
    "#         plt.imshow(random.sample(list(predicted_images), 1), cmap=\"Greys\")\n",
    "#         plt.grid(\"off\")\n",
    "#         plt.axis(\"off\")\n",
    "#         plt.show()"
   ]
  },
  {
   "cell_type": "code",
   "execution_count": 30,
   "id": "f51827ad",
   "metadata": {},
   "outputs": [
    {
     "data": {
      "image/png": "[encoded data removed]",
      "text/plain": [
       "<Figure size 432x288 with 1 Axes>"
      ]
     },
     "metadata": {
      "needs_background": "light"
     },
     "output_type": "display_data"
    }
   ],
   "source": [
    "# Fill the expressions that you want to render\n",
    "samples = [\"c(32,32,28)c(32,32,24)-s(32,32,28)s(32,32,20)-+t(32,32,20)+\", \"c(32,32,28)c(32,32,24)-\"]\n",
    "create_images(samples, parser, 'sample')"
   ]
  },
  {
   "cell_type": "code",
   "execution_count": null,
   "id": "485c8b1f",
   "metadata": {},
   "outputs": [],
   "source": []
  },
  {
   "cell_type": "code",
   "execution_count": null,
   "id": "237dd62e",
   "metadata": {},
   "outputs": [],
   "source": []
  },
  {
   "cell_type": "code",
   "execution_count": 5,
   "id": "23397dc9",
   "metadata": {},
   "outputs": [],
   "source": [
    "# model_path='/home/steve/Dokumenty/Studia/project/ucsgnet-students-version/models/csgnet/mix_len_cr_percent_equal_batch_3_13_prop_100_hdsz_2048_batch_2000_optim_adam_lr_0.001_wd_0.0_enocoderdrop_0.0_drop_0.2_step_mix_mode_12.pth'\n",
    "# cad_data_path='/home/steve/Dokumenty/Studia/project/ucsgnet-students-version/data/cad/cad.h5'"
   ]
  },
  {
   "cell_type": "code",
   "execution_count": 6,
   "id": "5f6e76b8",
   "metadata": {},
   "outputs": [],
   "source": [
    "# dataset = CADDataset(data_path, 'train')"
   ]
  },
  {
   "cell_type": "code",
   "execution_count": null,
   "id": "1d9a1a15",
   "metadata": {},
   "outputs": [],
   "source": [
    "# def create_empty_model():\n",
    "#     config = {\n",
    "        \n",
    "#     }\n",
    "#     # CNN encoder\n",
    "#     encoder_net = Encoder(0.2)\n",
    "# #     encoder_net.cuda()\n",
    "\n",
    "#     # Load the terminals symbols of the grammar\n",
    "#     with open(\"terminals.txt\", \"r\") as file:\n",
    "#         unique_draw = file.readlines()\n",
    "#     for index, e in enumerate(unique_draw):\n",
    "#         unique_draw[index] = e[0:-1]\n",
    "\n",
    "#     # RNN decoder\n",
    "#     imitate_net = ImitateJoint(\n",
    "#         hd_sz=2048,\n",
    "#         input_size=2048,\n",
    "#         encoder=encoder_net,\n",
    "#         mode=2,\n",
    "#         num_draws=len(unique_draw),\n",
    "#         canvas_shape=config.canvas_shape)\n",
    "# #     imitate_net.cuda()\n",
    "#     imitate_net.epsilon = config.eps"
   ]
  },
  {
   "cell_type": "code",
   "execution_count": 8,
   "id": "f58d20e7",
   "metadata": {},
   "outputs": [],
   "source": [
    "# csg_model=torch.load(model_path, map_location=torch.device('cpu'))"
   ]
  },
  {
   "cell_type": "code",
   "execution_count": 15,
   "id": "068114af",
   "metadata": {},
   "outputs": [
    {
     "data": {
      "text/plain": [
       "odict_keys(['encoder.conv1.weight', 'encoder.conv1.bias', 'encoder.conv2.weight', 'encoder.conv2.bias', 'encoder.conv3.weight', 'encoder.conv3.bias', 'encoder.conv4.weight', 'encoder.conv4.bias', 'encoder.batch_norm_1.weight', 'encoder.batch_norm_1.bias', 'encoder.batch_norm_1.running_mean', 'encoder.batch_norm_1.running_var', 'encoder.batch_norm_2.weight', 'encoder.batch_norm_2.bias', 'encoder.batch_norm_2.running_mean', 'encoder.batch_norm_2.running_var', 'encoder.batch_norm_3.weight', 'encoder.batch_norm_3.bias', 'encoder.batch_norm_3.running_mean', 'encoder.batch_norm_3.running_var', 'dense_input_op.weight', 'dense_input_op.bias', 'rnn.weight_ih_l0', 'rnn.weight_hh_l0', 'rnn.bias_ih_l0', 'rnn.bias_hh_l0', 'dense_output.weight', 'dense_output.bias', 'dense_fc_1.weight', 'dense_fc_1.bias', 'batchnorm_fc_1.running_mean', 'batchnorm_fc_1.running_var'])"
      ]
     },
     "execution_count": 15,
     "metadata": {},
     "output_type": "execute_result"
    }
   ],
   "source": []
  }
 ],
 "metadata": {
  "kernelspec": {
   "display_name": "ucsg-true-venv",
   "language": "python",
   "name": "ucsg-true-venv"
  },
  "language_info": {
   "codemirror_mode": {
    "name": "ipython",
    "version": 3
   },
   "file_extension": ".py",
   "mimetype": "text/x-python",
   "name": "python",
   "nbconvert_exporter": "python",
   "pygments_lexer": "ipython3",
   "version": "3.7.3"
  }
 },
 "nbformat": 4,
 "nbformat_minor": 5
}
