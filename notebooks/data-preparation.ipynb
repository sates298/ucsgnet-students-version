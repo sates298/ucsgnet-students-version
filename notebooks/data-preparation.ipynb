{
 "cells": [
  {
   "cell_type": "code",
   "execution_count": 1,
   "id": "7064c959",
   "metadata": {},
   "outputs": [
    {
     "name": "stderr",
     "output_type": "stream",
     "text": [
      "/home/steve/.conda/envs/ucsg/lib/python3.7/site-packages/sklearn/utils/validation.py:37: DeprecationWarning: distutils Version classes are deprecated. Use packaging.version instead.\n",
      "  LARGE_SPARSE_SUPPORTED = LooseVersion(scipy_version) >= '0.14.0'\n"
     ]
    }
   ],
   "source": [
    "import torch\n",
    "import sys\n",
    "from os import listdir, path\n",
    "import random\n",
    "import re\n",
    "import numpy as np\n",
    "import cv2\n",
    "import h5py\n",
    "\n",
    "sys.path.insert(0, '/home/steve/Dokumenty/Studia/project/ucsgnet-students-version')\n",
    "sys.path.insert(0, '/home/steve/Dokumenty/Studia/project/CSGNet')\n",
    "\n",
    "from ucsgnet.dataset import CADDataset, get_simple_2d_transforms, process_single_2d_image\n",
    "import matplotlib.pyplot as plt\n",
    "from src.Models.models import ParseModelOutput\n",
    "from src.utils.generators.mixed_len_generator import Draw\n",
    "from src.utils.train_utils import prepare_input_op, beams_parser, validity, image_from_expressions\n",
    "from torch.utils.data import DataLoader"
   ]
  },
  {
   "cell_type": "code",
   "execution_count": 2,
   "id": "2bac1233",
   "metadata": {},
   "outputs": [],
   "source": [
    "canvas_shape = [64, 64]\n",
    "max_len = 19\n",
    "terminals_path = '/home/steve/Dokumenty/Studia/project/CSGNet/terminals.txt'\n",
    "cad_path = '/home/steve/Dokumenty/Studia/project/ucsgnet-students-version/data/cad/cad.h5'\n",
    "cad_expr_path = '/home/steve/Dokumenty/Studia/project/CSGNet/data/cad/predicted_images/mix_len_cr_percent_equal_batch_3_13_prop_100_hdsz_2048_batch_2000_optim_adam_lr_0.001_wd_0.0_enocoderdrop_0.0_drop_0.2_step_mix_mode_12.pth/top_1_prediction/expressions'\n",
    "\n",
    "# expr = ['expressions_old.txt', 'expressions_outT.txt', 'expressions.txt']\n",
    "output_path = '/home/steve/Dokumenty/Studia/project/ucsgnet-students-version/data/cad'\n",
    "# data_path = '/home/steve/Dokumenty/Studia/project/ucsgnet-students-version/data/synthetic/synthetic'\n",
    "# output_path= '/home/steve/Dokumenty/Studia/project/ucsgnet-students-version/data/synthetic/'\n",
    "# filepaths = {\n",
    "#     k: path.join(path.join(data_path, k), 'expressions.txt') for k in listdir(data_path)\n",
    "# }\n",
    "\n",
    "with open(terminals_path, \"r\") as file:\n",
    "    unique_draw = file.readlines()\n",
    "for index, e in enumerate(unique_draw):\n",
    "    unique_draw[index] = e[0:-1]\n",
    "\n",
    "parser = ParseModelOutput(unique_draw, max_len // 2 + 1, max_len, canvas_shape)\n",
    "# filepaths"
   ]
  },
  {
   "cell_type": "code",
   "execution_count": 3,
   "id": "9d365891",
   "metadata": {},
   "outputs": [],
   "source": [
    "DATA_SPLIT = 'train'\n",
    "NUM_SHAPES = 8\n",
    "\n",
    "dataset = CADDataset(cad_path, DATA_SPLIT, get_simple_2d_transforms())\n",
    "loader = DataLoader(\n",
    "            dataset=dataset,\n",
    "            batch_size=1, # 16\n",
    "            shuffle=False,\n",
    "            drop_last=False,\n",
    "            num_workers=0,\n",
    "        )"
   ]
  },
  {
   "cell_type": "code",
   "execution_count": 4,
   "id": "78470e76",
   "metadata": {},
   "outputs": [],
   "source": [
    "def create_images(expressions, parser, output_name, counter, show=True, save=True):\n",
    "    predicted_images = image_from_expressions(parser, expressions)\n",
    "#     for i, img in enumerate(predicted_images):\n",
    "#         plt.imshow(img, cmap=\"Greys\")\n",
    "#         plt.grid(\"off\")\n",
    "#         plt.axis(\"off\")\n",
    "    return predicted_images[0]\n",
    "#         if save:\n",
    "#             plt.savefig(path.join(output_path, f'{output_name}_{i+counter}'))\n",
    "#         plt.clf()\n",
    "        \n",
    "def extract_primitives(expressions, output_name, save=True):\n",
    "    def remove_ops(exp):\n",
    "        return exp.replace('*', '').replace('-', '').replace('+', '') + '\\n'\n",
    "    out = path.join(output_path, output_name)\n",
    "    primitives = [remove_ops(x) for x in expressions]\n",
    "    if save:\n",
    "        with open(out, 'w') as f:\n",
    "            f.writelines(primitives)\n",
    "    return primitives\n",
    "\n",
    "def split_primitives(primitives):\n",
    "    primitives_p = [x+')' for x in primitives.split(')')][:-1]\n",
    "    return primitives_p\n",
    "\n",
    "\n",
    "def calculate_one_sdf(primitive, parser):\n",
    "    image = image_from_expressions(parser, primitive)\n",
    "    return image\n",
    "\n",
    "# def fill_primitives():\n",
    "    "
   ]
  },
  {
   "cell_type": "code",
   "execution_count": 5,
   "id": "f51827ad",
   "metadata": {},
   "outputs": [],
   "source": [
    "# Fill the expressions that you want to render\n",
    "def read_expressions_or_primitives(filename):\n",
    "    with open(filename, 'r') as f:\n",
    "        exps = f.readlines()\n",
    "    return list(map(lambda x: x.rstrip(), exps))"
   ]
  },
  {
   "cell_type": "code",
   "execution_count": 6,
   "id": "4412e48a",
   "metadata": {},
   "outputs": [],
   "source": [
    "# expressions = {\n",
    "#     'worse': read_expressions_or_primitives(path.join(cad_expr_path, 'expressions.txt')),\n",
    "#     'outT': read_expressions_or_primitives(path.join(cad_expr_path, 'expressions_outT.txt')),\n",
    "#     'old': read_expressions_or_primitives(path.join(cad_expr_path, 'expressions_old.txt'))\n",
    "# }\n",
    "expressions = read_expressions_or_primitives(path.join(cad_expr_path, f'expressions_{DATA_SPLIT}.txt'))\n",
    "_ = extract_primitives(expressions, path.join(output_path, f'primitives_{DATA_SPLIT}.txt'))\n",
    "primitives = read_expressions_or_primitives(path.join(output_path, f'primitives_{DATA_SPLIT}.txt'))\n",
    "# primitives = {\n",
    "#     k: read_expressions_or_primitives(path.join(output_path, f'primitives_{k}.txt'))\n",
    "#     for k in expressions.keys()\n",
    "# }"
   ]
  },
  {
   "cell_type": "code",
   "execution_count": 7,
   "id": "d0d76006",
   "metadata": {},
   "outputs": [],
   "source": [
    "def draw_primitive(primitive):\n",
    "    shape = primitive[0]\n",
    "    x, y, scale = re.findall(\"\\d+\", primitive)\n",
    "    draw_obj = Draw(canvas_shape=(64, 64))\n",
    "    draw_types = {\n",
    "        \"c\": draw_obj.draw_circle,\n",
    "        \"s\": draw_obj.draw_square,\n",
    "        \"t\": draw_obj.draw_triangle\n",
    "    }\n",
    "    layer = draw_types[shape]([int(x), int(y)], int(scale))\n",
    "    return layer"
   ]
  },
  {
   "cell_type": "code",
   "execution_count": 8,
   "id": "8a015be5",
   "metadata": {},
   "outputs": [],
   "source": [
    "def draw_sample(index, key):\n",
    "    counter = 0\n",
    "    for batch in loader:\n",
    "        if counter == index:\n",
    "            image, points, trues, _ = batch\n",
    "            image = image.reshape(64, 64)\n",
    "#             plt.imshow(image, cmap='Greys')\n",
    "#             plt.show()\n",
    "#             plt.clf()\n",
    "            break\n",
    "        counter += 1\n",
    "    sample_exp = expressions[key][index]\n",
    "    sample = primitives[key][index]\n",
    "    predicted = create_images([sample_exp], parser, '', 0, save=False)\n",
    "    splitted = split_primitives(sample)\n",
    "    predicted_images = [draw_primitive(pr) for pr in splitted]\n",
    "    fig, axs = plt.subplots(1, len(predicted_images) + 2, figsize=(25, 3))\n",
    "    fig.suptitle(key)\n",
    "    axs[0].imshow(image, cmap='Greys')\n",
    "#     axs[0].grid(\"off\")\n",
    "#     axs[0].axis(\"off\")\n",
    "    axs[0].set_title('original')\n",
    "    axs[1].imshow(predicted, cmap='Greys')\n",
    "#     axs[1].grid(\"off\")\n",
    "#     axs[1].axis(\"off\")\n",
    "    axs[1].set_title('predicted')\n",
    "    for i in range(2, len(axs)):\n",
    "        axs[i].imshow(predicted_images[i-2], cmap='Greys')\n",
    "#         axs[i].grid(\"off\")\n",
    "#         axs[i].axis(\"off\")\n",
    "    return image, predicted, predicted_images"
   ]
  },
  {
   "cell_type": "code",
   "execution_count": 9,
   "id": "a4961c83",
   "metadata": {},
   "outputs": [],
   "source": [
    "index = 201 #\n",
    "# original, predicted, pred_prim = draw_sample(index, 'old')\n",
    "# original, predicted, pred_prim = draw_sample(index, 'worse')\n",
    "# original, predicted, pred_prim = draw_sample(index, 'outT')"
   ]
  },
  {
   "cell_type": "code",
   "execution_count": 10,
   "id": "9fe7930a",
   "metadata": {},
   "outputs": [],
   "source": [
    "# im_or = pred_prim[0].astype(np.float32)\n",
    "# im = cv2.cvtColor(im_or, cv2.COLOR_GRAY2BGR)\n",
    "# image, coords, trues, _ = process_single_2d_image(im, None)\n",
    "# im2 = cv2.cvtColor(np.array(image), cv2.COLOR_BGR2GRAY)"
   ]
  },
  {
   "cell_type": "code",
   "execution_count": 11,
   "id": "f366ac8e",
   "metadata": {},
   "outputs": [],
   "source": [
    "def transform_one_sample(sample, num_shapes=16, out_shape=64*64):\n",
    "    # split primitives to list from string\n",
    "    splitted = split_primitives(sample)\n",
    "    # group primitives by shape type\n",
    "    categories = {k:[] for k in ('s', 'c', 't')}\n",
    "    for item in splitted:\n",
    "        categories[item[0]].append(item)\n",
    "        if len(categories[item[0]]) > 8:\n",
    "            print('SHIEEEEET')\n",
    "    # change primitive parameters to numpy arrays\n",
    "    categories = {k: [draw_primitive(p).astype(np.float32).reshape(-1) for p in ps] for k, ps in categories.items()}\n",
    "    # multiply primitives (to have matrix num_shapes x out_shape)\n",
    "    categories = {k: np.zeros((num_shapes, out_shape), dtype=np.float32)\n",
    "                  if not arrs else np.array((arrs*(num_shapes//len(arrs) +1))[:num_shapes], dtype=np.float32)\n",
    "                  for k, arrs in categories.items()}\n",
    "    # concatenate all primitives to one array\n",
    "    concatenated = np.concatenate([categories['s'], categories['c'], categories['t']])\n",
    "    return concatenated\n",
    "\n",
    "def transform_entire_dataset(dataset, num_shapes=16):\n",
    "    transforms = map(lambda x: transform_one_sample(x, num_shapes=num_shapes), dataset)\n",
    "    transforms = np.stack(list(transforms))\n",
    "    return transforms"
   ]
  },
  {
   "cell_type": "code",
   "execution_count": 12,
   "id": "4f615c8c",
   "metadata": {},
   "outputs": [
    {
     "data": {
      "text/plain": [
       "(array([[0., 0., 0., ..., 0., 0., 0.],\n",
       "        [0., 0., 0., ..., 0., 0., 0.],\n",
       "        [0., 0., 0., ..., 0., 0., 0.],\n",
       "        ...,\n",
       "        [0., 0., 0., ..., 0., 0., 0.],\n",
       "        [0., 0., 0., ..., 0., 0., 0.],\n",
       "        [0., 0., 0., ..., 0., 0., 0.]], dtype=float32),\n",
       " (48, 4096))"
      ]
     },
     "execution_count": 12,
     "metadata": {},
     "output_type": "execute_result"
    }
   ],
   "source": [
    "sample = primitives[0]\n",
    "label = transform_one_sample(sample)\n",
    "label, label.shape"
   ]
  },
  {
   "cell_type": "code",
   "execution_count": 13,
   "id": "8883d53e",
   "metadata": {},
   "outputs": [],
   "source": [
    "# transforms = transform_entire_dataset(primitives, num_shapes=NUM_SHAPES)\n",
    "# transforms.shape"
   ]
  },
  {
   "cell_type": "code",
   "execution_count": 14,
   "id": "9929484c",
   "metadata": {},
   "outputs": [],
   "source": [
    "# with h5py.File(path.join(output_path, f'cad_labels_{NUM_SHAPES}.h5'), 'a') as f:\n",
    "#     dset = f.create_dataset(DATA_SPLIT, data = transforms)"
   ]
  },
  {
   "cell_type": "code",
   "execution_count": 15,
   "id": "8d29b452",
   "metadata": {},
   "outputs": [
    {
     "name": "stdout",
     "output_type": "stream",
     "text": [
      "(10000, 24, 4096)\n",
      "(3000, 24, 4096)\n",
      "(3000, 24, 4096)\n"
     ]
    }
   ],
   "source": [
    "with h5py.File(path.join(output_path, f'cad_labels_{NUM_SHAPES}.h5'), 'r') as f:\n",
    "    data_val = f['val'][:]\n",
    "    data_test = f['test'][:]\n",
    "    data_train = f['train'][:]\n",
    "print(data_train.shape)\n",
    "print(data_val.shape)\n",
    "print(data_test.shape)"
   ]
  }
 ],
 "metadata": {
  "kernelspec": {
   "display_name": "ucsg-true-venv",
   "language": "python",
   "name": "ucsg-true-venv"
  },
  "language_info": {
   "codemirror_mode": {
    "name": "ipython",
    "version": 3
   },
   "file_extension": ".py",
   "mimetype": "text/x-python",
   "name": "python",
   "nbconvert_exporter": "python",
   "pygments_lexer": "ipython3",
   "version": "3.7.3"
  }
 },
 "nbformat": 4,
 "nbformat_minor": 5
}
