{
 "cells": [
  {
   "cell_type": "code",
   "execution_count": 1,
   "id": "9d0f4558",
   "metadata": {},
   "outputs": [],
   "source": [
    "import sys\n",
    "sys.path.insert(0, '/home/steve/Dokumenty/Studia/project/ucsgnet-students-version')\n",
    "sys.path.insert(0, '/home/steve/Dokumenty/Studia/project/CSGNet')\n",
    "\n",
    "from ucsgnet.dataset import CADDataset, get_simple_2d_transforms\n",
    "import matplotlib.pyplot as plt\n",
    "from ucsgnet.ucsgnet.cad.net_cad import Net\n",
    "import torch\n",
    "from torch.utils.data import DataLoader\n",
    "from tqdm import tqdm\n",
    "import math\n",
    "import argparse"
   ]
  },
  {
   "cell_type": "code",
   "execution_count": 2,
   "id": "454d78e0",
   "metadata": {},
   "outputs": [],
   "source": [
    "params_path = '/home/steve/Dokumenty/Studia/project/ucsgnet-students-version/models/pretrained/models/cad_main/initial/params.json'\n",
    "weights_path = '/home/steve/Dokumenty/Studia/project/ucsgnet-students-version/models/pretrained/models/cad_main/initial/ckpts/model.ckpt'\n",
    "synthetic_dir = '/home/steve/Dokumenty/Studia/project/ucsgnet-students-version/data/synthetic'\n",
    "cad_path = '/home/steve/Dokumenty/Studia/project/ucsgnet-students-version/data/cad/cad.h5'"
   ]
  },
  {
   "cell_type": "code",
   "execution_count": 3,
   "id": "2d898c5a",
   "metadata": {},
   "outputs": [
    {
     "data": {
      "text/plain": [
       "(3000, 3000)"
      ]
     },
     "execution_count": 3,
     "metadata": {},
     "output_type": "execute_result"
    }
   ],
   "source": [
    "dataset = CADDataset(cad_path, '', get_simple_2d_transforms())\n",
    "loader = DataLoader(\n",
    "            dataset=dataset,\n",
    "            batch_size=1, # 16\n",
    "            shuffle=False,\n",
    "            drop_last=False,\n",
    "            num_workers=0,\n",
    "        )\n",
    "len(dataset), len(loader)"
   ]
  },
  {
   "cell_type": "code",
   "execution_count": 4,
   "id": "ec870e5a",
   "metadata": {},
   "outputs": [
    {
     "data": {
      "text/plain": [
       "torch.Size([1, 64, 64])"
      ]
     },
     "execution_count": 4,
     "metadata": {},
     "output_type": "execute_result"
    }
   ],
   "source": [
    "dataset[0][0].shape\n",
    "# dataset[1][2]"
   ]
  },
  {
   "cell_type": "code",
   "execution_count": 8,
   "id": "d8180594",
   "metadata": {},
   "outputs": [
    {
     "name": "stdout",
     "output_type": "stream",
     "text": [
      "Num of trainable params: 5709491\n",
      "Num of not trainable params: 0\n"
     ]
    },
    {
     "data": {
      "text/plain": [
       "CSGNet(\n",
       "  (encoder_): Extractor2D(\n",
       "    (layers): Sequential(\n",
       "      (0): Conv2DWithActivation(\n",
       "        (conv): Conv2d(1, 32, kernel_size=(4, 4), stride=(2, 2), padding=(2, 2))\n",
       "        (lrelu): LeakyReLU(negative_slope=0.01)\n",
       "      )\n",
       "      (1): Conv2DWithActivation(\n",
       "        (conv): Conv2d(32, 64, kernel_size=(4, 4), stride=(2, 2), padding=(2, 2))\n",
       "        (lrelu): LeakyReLU(negative_slope=0.01)\n",
       "      )\n",
       "      (2): Conv2DWithActivation(\n",
       "        (conv): Conv2d(64, 128, kernel_size=(4, 4), stride=(2, 2), padding=(2, 2))\n",
       "        (lrelu): LeakyReLU(negative_slope=0.01)\n",
       "      )\n",
       "      (3): Conv2DWithActivation(\n",
       "        (conv): Conv2d(128, 256, kernel_size=(4, 4), stride=(2, 2), padding=(2, 2))\n",
       "        (lrelu): LeakyReLU(negative_slope=0.01)\n",
       "      )\n",
       "      (4): Conv2DWithoutActivation(\n",
       "        (conv): Conv2d(256, 256, kernel_size=(4, 4), stride=(2, 2))\n",
       "      )\n",
       "      (5): Flatten()\n",
       "    )\n",
       "  )\n",
       "  (decoder_): Decoder(\n",
       "    (layers): Sequential(\n",
       "      (0): Linear(in_features=256, out_features=512, bias=True)\n",
       "      (1): LeakyReLU(negative_slope=0.01)\n",
       "      (2): Linear(in_features=512, out_features=1024, bias=True)\n",
       "      (3): LeakyReLU(negative_slope=0.01)\n",
       "      (4): Linear(in_features=1024, out_features=2048, bias=True)\n",
       "      (5): LeakyReLU(negative_slope=0.01)\n",
       "    )\n",
       "  )\n",
       "  (evaluator_): CompundEvaluator(\n",
       "    (parts): ModuleList(\n",
       "      (0): CircleSphereEvaluator(\n",
       "        (layers_): Linear(in_features=2048, out_features=64, bias=True)\n",
       "      )\n",
       "      (1): SquareCubeEvaluator(\n",
       "        (layers_): Linear(in_features=2048, out_features=80, bias=True)\n",
       "      )\n",
       "      (2): TriangleEvaluator(\n",
       "        (layers_): Linear(in_features=2048, out_features=64, bias=True)\n",
       "      )\n",
       "    )\n",
       "  )\n",
       "  (scaler_): Scaler()\n",
       "  (csg_layers_): ModuleList(\n",
       "    (0): RelationLayer(\n",
       "      (parameter_encoder): Sequential(\n",
       "        (0): Linear(in_features=384, out_features=256, bias=True)\n",
       "        (1): LeakyReLU(negative_slope=0.01)\n",
       "        (2): Linear(in_features=256, out_features=256, bias=True)\n",
       "      )\n",
       "    )\n",
       "    (1): RelationLayer(\n",
       "      (parameter_encoder): Sequential(\n",
       "        (0): Linear(in_features=128, out_features=256, bias=True)\n",
       "        (1): LeakyReLU(negative_slope=0.01)\n",
       "        (2): Linear(in_features=256, out_features=256, bias=True)\n",
       "      )\n",
       "    )\n",
       "  )\n",
       "  (gru_encoder): GRUCell(256, 256)\n",
       ")"
      ]
     },
     "execution_count": 8,
     "metadata": {},
     "output_type": "execute_result"
    }
   ],
   "source": [
    "hparams_dict = {\n",
    "    'use_planes': False,\n",
    "    'shapes_per_type': 16,\n",
    "    'num_dimensions': 2,\n",
    "    'out_shapes_per_layer': 4,\n",
    "    'weight_binarizing_threshold': 0.1,\n",
    "    'num_csg_layers': 2,\n",
    "}\n",
    "hparams = argparse.Namespace()\n",
    "for key, value in hparams_dict.items():\n",
    "    setattr(hparams, key, value)\n",
    "net = Net(hparams)\n",
    "# hparams\n",
    "net.net"
   ]
  },
  {
   "cell_type": "code",
   "execution_count": 9,
   "id": "8bc8a40a",
   "metadata": {
    "scrolled": true
   },
   "outputs": [],
   "source": [
    "# net = Net.load_from_checkpoint(weights_path)\n",
    "# net.eval()\n",
    "# net.freeze()\n",
    "# net.net\n",
    "# net = Net(\n",
    "    \n",
    "# )"
   ]
  },
  {
   "cell_type": "code",
   "execution_count": 10,
   "id": "5d7bc8b4",
   "metadata": {
    "scrolled": true
   },
   "outputs": [
    {
     "name": "stderr",
     "output_type": "stream",
     "text": [
      "  0%|                                                                                                                                                                               | 0/3000 [00:00<?, ?it/s]\n"
     ]
    }
   ],
   "source": [
    "prev = None\n",
    "counter = {'t': 0, 'f': 0}\n",
    "for batch in tqdm(loader):\n",
    "    image, points, trues, _ = batch\n",
    "#     if prev is not None:\n",
    "#         if torch.equal(prev, points):\n",
    "#             counter['t'] += 1\n",
    "#         else:\n",
    "#             counter['f'] += 1\n",
    "#     prev = points\n",
    "    hidden = net.net.encoder_(image)\n",
    "    out = net.net.decoder_(hidden)\n",
    "#     out = net(image, points)\n",
    "    points = points.unsqueeze(\n",
    "        dim=1\n",
    "    )  # broadcasting for different of shapes\n",
    "\n",
    "    base_shapes = net.net.evaluator_(\n",
    "        out, points\n",
    "    )  # -> batch, num_shapes, num_points\n",
    "#     base_shapes_square = net.net.evaluator_.parts[1](\n",
    "#         out, points\n",
    "#     )\n",
    "\n",
    "    base_shapes = base_shapes.permute(\n",
    "        (0, 2, 1)\n",
    "    )  # -> batch, num_points, num_shapes\n",
    "    break\n",
    "# counter"
   ]
  },
  {
   "cell_type": "code",
   "execution_count": null,
   "id": "c50dd068",
   "metadata": {
    "scrolled": true
   },
   "outputs": [],
   "source": [
    "# base_shapes_circle"
   ]
  },
  {
   "cell_type": "code",
   "execution_count": 11,
   "id": "10d53783",
   "metadata": {},
   "outputs": [
    {
     "data": {
      "text/plain": [
       "torch.Size([1, 4096, 48])"
      ]
     },
     "execution_count": 11,
     "metadata": {},
     "output_type": "execute_result"
    }
   ],
   "source": [
    "base_shapes.shape"
   ]
  },
  {
   "cell_type": "code",
   "execution_count": null,
   "id": "68dc5f63",
   "metadata": {},
   "outputs": [],
   "source": [
    "# points.size(), points.min() + 0.0078"
   ]
  },
  {
   "cell_type": "code",
   "execution_count": null,
   "id": "aef5ee56",
   "metadata": {},
   "outputs": [],
   "source": [
    "# q_points = points.abs()\n",
    "# q_points.max(torch.zeros_like(q_points)).norm(dim=-1)"
   ]
  },
  {
   "cell_type": "code",
   "execution_count": null,
   "id": "936eb356",
   "metadata": {},
   "outputs": [],
   "source": []
  }
 ],
 "metadata": {
  "kernelspec": {
   "display_name": "ucsg-true-venv",
   "language": "python",
   "name": "ucsg-true-venv"
  },
  "language_info": {
   "codemirror_mode": {
    "name": "ipython",
    "version": 3
   },
   "file_extension": ".py",
   "mimetype": "text/x-python",
   "name": "python",
   "nbconvert_exporter": "python",
   "pygments_lexer": "ipython3",
   "version": "3.7.3"
  }
 },
 "nbformat": 4,
 "nbformat_minor": 5
}
