{
 "cells": [
  {
   "cell_type": "code",
   "execution_count": 1,
   "id": "9d0f4558",
   "metadata": {},
   "outputs": [],
   "source": [
    "import sys\n",
    "sys.path.insert(0, '/home/steve/Dokumenty/Studia/project/ucsgnet-students-version')\n",
    "sys.path.insert(0, '/home/steve/Dokumenty/Studia/project/CSGNet')\n",
    "\n",
    "from ucsgnet.dataset import CADDataset, get_simple_2d_transforms\n",
    "import matplotlib.pyplot as plt\n",
    "from ucsgnet.ucsgnet.cad.net_cad import Net\n",
    "import torch\n",
    "from torch.utils.data import DataLoader\n",
    "from tqdm import tqdm\n",
    "import math"
   ]
  },
  {
   "cell_type": "code",
   "execution_count": 2,
   "id": "454d78e0",
   "metadata": {},
   "outputs": [],
   "source": [
    "params_path = '/home/steve/Dokumenty/Studia/project/ucsgnet-students-version/models/pretrained/models/cad_main/initial/params.json'\n",
    "weights_path = '/home/steve/Dokumenty/Studia/project/ucsgnet-students-version/models/pretrained/models/cad_main/initial/ckpts/model.ckpt'\n",
    "synthetic_dir = '/home/steve/Dokumenty/Studia/project/ucsgnet-students-version/data/synthetic'\n",
    "cad_path = '/home/steve/Dokumenty/Studia/project/ucsgnet-students-version/data/cad/cad.h5'"
   ]
  },
  {
   "cell_type": "code",
   "execution_count": 3,
   "id": "2d898c5a",
   "metadata": {},
   "outputs": [
    {
     "data": {
      "text/plain": [
       "(3000, 3000)"
      ]
     },
     "execution_count": 3,
     "metadata": {},
     "output_type": "execute_result"
    }
   ],
   "source": [
    "dataset = CADDataset(cad_path, '', get_simple_2d_transforms())\n",
    "loader = DataLoader(\n",
    "            dataset=dataset,\n",
    "            batch_size=1, # 16\n",
    "            shuffle=False,\n",
    "            drop_last=False,\n",
    "            num_workers=0,\n",
    "        )\n",
    "len(dataset), len(loader)"
   ]
  },
  {
   "cell_type": "code",
   "execution_count": 4,
   "id": "ec870e5a",
   "metadata": {},
   "outputs": [
    {
     "data": {
      "text/plain": [
       "torch.Size([1, 64, 64])"
      ]
     },
     "execution_count": 4,
     "metadata": {},
     "output_type": "execute_result"
    }
   ],
   "source": [
    "dataset[0][0].shape\n",
    "# dataset[1][2]"
   ]
  },
  {
   "cell_type": "code",
   "execution_count": 5,
   "id": "8bc8a40a",
   "metadata": {
    "scrolled": true
   },
   "outputs": [
    {
     "name": "stdout",
     "output_type": "stream",
     "text": [
      "Num of trainable params: 5709491\n",
      "Num of not trainable params: 0\n"
     ]
    },
    {
     "ename": "RuntimeError",
     "evalue": "Error(s) in loading state_dict for Net:\n\tMissing key(s) in state_dict: \"net.evaluator_.parts.2.layers_.weight\", \"net.evaluator_.parts.2.layers_.bias\". \n\tsize mismatch for net.csg_layers_.0.composition_vector_1_: copying a param with shape torch.Size([256, 32, 4]) from checkpoint, the shape in current model is torch.Size([256, 48, 4]).\n\tsize mismatch for net.csg_layers_.0.composition_vector_2_: copying a param with shape torch.Size([256, 32, 4]) from checkpoint, the shape in current model is torch.Size([256, 48, 4]).\n\tsize mismatch for net.csg_layers_.0.parameter_encoder.0.weight: copying a param with shape torch.Size([256, 256]) from checkpoint, the shape in current model is torch.Size([256, 384]).\n\tsize mismatch for net.csg_layers_.1.composition_vector_1_: copying a param with shape torch.Size([256, 48, 1]) from checkpoint, the shape in current model is torch.Size([256, 64, 1]).\n\tsize mismatch for net.csg_layers_.1.composition_vector_2_: copying a param with shape torch.Size([256, 48, 1]) from checkpoint, the shape in current model is torch.Size([256, 64, 1]).\n\tsize mismatch for net.csg_layers_.1.parameter_encoder.0.weight: copying a param with shape torch.Size([256, 96]) from checkpoint, the shape in current model is torch.Size([256, 128]).",
     "output_type": "error",
     "traceback": [
      "\u001b[0;31m---------------------------------------------------------------------------\u001b[0m",
      "\u001b[0;31mRuntimeError\u001b[0m                              Traceback (most recent call last)",
      "\u001b[0;32m/tmp/ipykernel_54650/3025367097.py\u001b[0m in \u001b[0;36m<module>\u001b[0;34m\u001b[0m\n\u001b[0;32m----> 1\u001b[0;31m \u001b[0mnet\u001b[0m \u001b[0;34m=\u001b[0m \u001b[0mNet\u001b[0m\u001b[0;34m.\u001b[0m\u001b[0mload_from_checkpoint\u001b[0m\u001b[0;34m(\u001b[0m\u001b[0mweights_path\u001b[0m\u001b[0;34m)\u001b[0m\u001b[0;34m\u001b[0m\u001b[0;34m\u001b[0m\u001b[0m\n\u001b[0m\u001b[1;32m      2\u001b[0m \u001b[0mnet\u001b[0m\u001b[0;34m.\u001b[0m\u001b[0meval\u001b[0m\u001b[0;34m(\u001b[0m\u001b[0;34m)\u001b[0m\u001b[0;34m\u001b[0m\u001b[0;34m\u001b[0m\u001b[0m\n\u001b[1;32m      3\u001b[0m \u001b[0mnet\u001b[0m\u001b[0;34m.\u001b[0m\u001b[0mfreeze\u001b[0m\u001b[0;34m(\u001b[0m\u001b[0;34m)\u001b[0m\u001b[0;34m\u001b[0m\u001b[0;34m\u001b[0m\u001b[0m\n\u001b[1;32m      4\u001b[0m \u001b[0mnet\u001b[0m\u001b[0;34m.\u001b[0m\u001b[0mnet\u001b[0m\u001b[0;34m\u001b[0m\u001b[0;34m\u001b[0m\u001b[0m\n",
      "\u001b[0;32m~/.conda/envs/ucsg/lib/python3.7/site-packages/pytorch_lightning/core/lightning.py\u001b[0m in \u001b[0;36mload_from_checkpoint\u001b[0;34m(cls, checkpoint_path, map_location, tags_csv)\u001b[0m\n\u001b[1;32m   1358\u001b[0m             \u001b[0mcheckpoint\u001b[0m\u001b[0;34m[\u001b[0m\u001b[0;34m'hparams'\u001b[0m\u001b[0;34m]\u001b[0m \u001b[0;34m=\u001b[0m \u001b[0mvars\u001b[0m\u001b[0;34m(\u001b[0m\u001b[0mhparams\u001b[0m\u001b[0;34m)\u001b[0m\u001b[0;34m\u001b[0m\u001b[0;34m\u001b[0m\u001b[0m\n\u001b[1;32m   1359\u001b[0m \u001b[0;34m\u001b[0m\u001b[0m\n\u001b[0;32m-> 1360\u001b[0;31m         \u001b[0mmodel\u001b[0m \u001b[0;34m=\u001b[0m \u001b[0mcls\u001b[0m\u001b[0;34m.\u001b[0m\u001b[0m_load_model_state\u001b[0m\u001b[0;34m(\u001b[0m\u001b[0mcheckpoint\u001b[0m\u001b[0;34m)\u001b[0m\u001b[0;34m\u001b[0m\u001b[0;34m\u001b[0m\u001b[0m\n\u001b[0m\u001b[1;32m   1361\u001b[0m         \u001b[0;32mreturn\u001b[0m \u001b[0mmodel\u001b[0m\u001b[0;34m\u001b[0m\u001b[0;34m\u001b[0m\u001b[0m\n\u001b[1;32m   1362\u001b[0m \u001b[0;34m\u001b[0m\u001b[0m\n",
      "\u001b[0;32m~/.conda/envs/ucsg/lib/python3.7/site-packages/pytorch_lightning/core/lightning.py\u001b[0m in \u001b[0;36m_load_model_state\u001b[0;34m(cls, checkpoint)\u001b[0m\n\u001b[1;32m   1389\u001b[0m         \u001b[0mmodel_args\u001b[0m \u001b[0;34m=\u001b[0m \u001b[0;34m[\u001b[0m\u001b[0mhparams\u001b[0m\u001b[0;34m]\u001b[0m \u001b[0;32mif\u001b[0m \u001b[0mhparams\u001b[0m \u001b[0;32melse\u001b[0m \u001b[0;34m[\u001b[0m\u001b[0;34m]\u001b[0m\u001b[0;34m\u001b[0m\u001b[0;34m\u001b[0m\u001b[0m\n\u001b[1;32m   1390\u001b[0m         \u001b[0mmodel\u001b[0m \u001b[0;34m=\u001b[0m \u001b[0mcls\u001b[0m\u001b[0;34m(\u001b[0m\u001b[0;34m*\u001b[0m\u001b[0mmodel_args\u001b[0m\u001b[0;34m)\u001b[0m\u001b[0;34m\u001b[0m\u001b[0;34m\u001b[0m\u001b[0m\n\u001b[0;32m-> 1391\u001b[0;31m         \u001b[0mmodel\u001b[0m\u001b[0;34m.\u001b[0m\u001b[0mload_state_dict\u001b[0m\u001b[0;34m(\u001b[0m\u001b[0mcheckpoint\u001b[0m\u001b[0;34m[\u001b[0m\u001b[0;34m'state_dict'\u001b[0m\u001b[0;34m]\u001b[0m\u001b[0;34m)\u001b[0m\u001b[0;34m\u001b[0m\u001b[0;34m\u001b[0m\u001b[0m\n\u001b[0m\u001b[1;32m   1392\u001b[0m \u001b[0;34m\u001b[0m\u001b[0m\n\u001b[1;32m   1393\u001b[0m         \u001b[0;31m# give model a chance to load something\u001b[0m\u001b[0;34m\u001b[0m\u001b[0;34m\u001b[0m\u001b[0;34m\u001b[0m\u001b[0m\n",
      "\u001b[0;32m~/.conda/envs/ucsg/lib/python3.7/site-packages/torch/nn/modules/module.py\u001b[0m in \u001b[0;36mload_state_dict\u001b[0;34m(self, state_dict, strict)\u001b[0m\n\u001b[1;32m    837\u001b[0m         \u001b[0;32mif\u001b[0m \u001b[0mlen\u001b[0m\u001b[0;34m(\u001b[0m\u001b[0merror_msgs\u001b[0m\u001b[0;34m)\u001b[0m \u001b[0;34m>\u001b[0m \u001b[0;36m0\u001b[0m\u001b[0;34m:\u001b[0m\u001b[0;34m\u001b[0m\u001b[0;34m\u001b[0m\u001b[0m\n\u001b[1;32m    838\u001b[0m             raise RuntimeError('Error(s) in loading state_dict for {}:\\n\\t{}'.format(\n\u001b[0;32m--> 839\u001b[0;31m                                self.__class__.__name__, \"\\n\\t\".join(error_msgs)))\n\u001b[0m\u001b[1;32m    840\u001b[0m         \u001b[0;32mreturn\u001b[0m \u001b[0m_IncompatibleKeys\u001b[0m\u001b[0;34m(\u001b[0m\u001b[0mmissing_keys\u001b[0m\u001b[0;34m,\u001b[0m \u001b[0munexpected_keys\u001b[0m\u001b[0;34m)\u001b[0m\u001b[0;34m\u001b[0m\u001b[0;34m\u001b[0m\u001b[0m\n\u001b[1;32m    841\u001b[0m \u001b[0;34m\u001b[0m\u001b[0m\n",
      "\u001b[0;31mRuntimeError\u001b[0m: Error(s) in loading state_dict for Net:\n\tMissing key(s) in state_dict: \"net.evaluator_.parts.2.layers_.weight\", \"net.evaluator_.parts.2.layers_.bias\". \n\tsize mismatch for net.csg_layers_.0.composition_vector_1_: copying a param with shape torch.Size([256, 32, 4]) from checkpoint, the shape in current model is torch.Size([256, 48, 4]).\n\tsize mismatch for net.csg_layers_.0.composition_vector_2_: copying a param with shape torch.Size([256, 32, 4]) from checkpoint, the shape in current model is torch.Size([256, 48, 4]).\n\tsize mismatch for net.csg_layers_.0.parameter_encoder.0.weight: copying a param with shape torch.Size([256, 256]) from checkpoint, the shape in current model is torch.Size([256, 384]).\n\tsize mismatch for net.csg_layers_.1.composition_vector_1_: copying a param with shape torch.Size([256, 48, 1]) from checkpoint, the shape in current model is torch.Size([256, 64, 1]).\n\tsize mismatch for net.csg_layers_.1.composition_vector_2_: copying a param with shape torch.Size([256, 48, 1]) from checkpoint, the shape in current model is torch.Size([256, 64, 1]).\n\tsize mismatch for net.csg_layers_.1.parameter_encoder.0.weight: copying a param with shape torch.Size([256, 96]) from checkpoint, the shape in current model is torch.Size([256, 128])."
     ]
    }
   ],
   "source": [
    "# net = Net.load_from_checkpoint(weights_path)\n",
    "# net.eval()\n",
    "# net.freeze()\n",
    "# net.net\n",
    "net = Net(\n",
    "    \n",
    ")"
   ]
  },
  {
   "cell_type": "code",
   "execution_count": null,
   "id": "5d7bc8b4",
   "metadata": {
    "scrolled": true
   },
   "outputs": [],
   "source": [
    "prev = None\n",
    "counter = {'t': 0, 'f': 0}\n",
    "for batch in tqdm(loader):\n",
    "    image, points, trues, _ = batch\n",
    "#     if prev is not None:\n",
    "#         if torch.equal(prev, points):\n",
    "#             counter['t'] += 1\n",
    "#         else:\n",
    "#             counter['f'] += 1\n",
    "#     prev = points\n",
    "    hidden = net.net.encoder_(image)\n",
    "    out = net.net.decoder_(hidden)\n",
    "#     out = net(image, points)\n",
    "    points = points.unsqueeze(\n",
    "        dim=1\n",
    "    )  # broadcasting for different of shapes\n",
    "\n",
    "    base_shapes_circle = net.net.evaluator_.parts[0](\n",
    "        out, points\n",
    "    )  # -> batch, num_shapes, num_points\n",
    "    base_shapes_square = net.net.evaluator_.parts[1](\n",
    "        out, points\n",
    "    )\n",
    "\n",
    "#     base_shapes = base_shapes.permute(\n",
    "#         (0, 2, 1)\n",
    "#     )  # -> batch, num_points, num_shapes\n",
    "    break\n",
    "# counter"
   ]
  },
  {
   "cell_type": "code",
   "execution_count": null,
   "id": "912ed19b",
   "metadata": {
    "scrolled": true
   },
   "outputs": [],
   "source": [
    "base_shapes_circle"
   ]
  },
  {
   "cell_type": "code",
   "execution_count": null,
   "id": "0e1a71b8",
   "metadata": {},
   "outputs": [],
   "source": [
    "base_shapes_square"
   ]
  },
  {
   "cell_type": "code",
   "execution_count": null,
   "id": "68dc5f63",
   "metadata": {},
   "outputs": [],
   "source": [
    "# points.size(), points.min() + 0.0078"
   ]
  },
  {
   "cell_type": "code",
   "execution_count": null,
   "id": "aef5ee56",
   "metadata": {},
   "outputs": [],
   "source": [
    "# q_points = points.abs()\n",
    "# q_points.max(torch.zeros_like(q_points)).norm(dim=-1)"
   ]
  },
  {
   "cell_type": "code",
   "execution_count": null,
   "id": "936eb356",
   "metadata": {},
   "outputs": [],
   "source": []
  }
 ],
 "metadata": {
  "kernelspec": {
   "display_name": "ucsg-true-venv",
   "language": "python",
   "name": "ucsg-true-venv"
  },
  "language_info": {
   "codemirror_mode": {
    "name": "ipython",
    "version": 3
   },
   "file_extension": ".py",
   "mimetype": "text/x-python",
   "name": "python",
   "nbconvert_exporter": "python",
   "pygments_lexer": "ipython3",
   "version": "3.7.3"
  }
 },
 "nbformat": 4,
 "nbformat_minor": 5
}
